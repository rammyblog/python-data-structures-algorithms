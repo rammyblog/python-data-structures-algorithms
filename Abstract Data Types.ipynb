{
 "cells": [
  {
   "cell_type": "markdown",
   "metadata": {},
   "source": [
    "# Abstract Data Types\n",
    "\n",
    "The foundation of computer science is based on the study of algorithms. An algorithm is a sequence of clear and precise step-by-step instructions for solving a problem in a finite amount of time. Algorithms are implemented by translating\n",
    "the step-by-step instructions into a computer program that can be executed by a computer. This translation process is called computer programming or simply programming."
   ]
  },
  {
   "cell_type": "markdown",
   "metadata": {},
   "source": [
    "## Introduction\n",
    "Data items are represented within a computer as a sequence of binary digits. To distinguish between the different types of data, the term type is often used to refer to a collection of values and the term data type to refer to a given type along with a collection of operations for manipulating values of the given type.\n",
    "\n",
    "Programming languages provides data types as part of the language itself. These data types are known as primitives, and they come in two category simple (Integer and real types) and complex (Lists, strings, dictionaries & objects).\n",
    "\n",
    "The primitive types provided by a language may not be sufficient for solving large complex problems. Thus, most languages allow for the construction of additional data types, known as user-defined types since they are defined by the programmer and not the language. Some of these data types can themselves be very complex.\n"
   ]
  },
  {
   "cell_type": "markdown",
   "metadata": {},
   "source": [
    "### Abstractions\n",
    "An abstraction is a mechanism for seperating the properties of an object and restricting the focus to those relevant in the current context.\n",
    "\n",
    "1. Procedural/Functional Abstraction\n",
    "2. Data Abstraction\n",
    "\n",
    "#### Procedural abstraction\n",
    "The use of a function or method knowing what it does but ignoring how it’s accomplished.\n",
    "\n",
    "#### Data abstraction \n",
    "The separation of the properties of a data type (its values and operations) from the implementation of that data type.\n",
    "You have used strings in Python many times. But do you know how they are implemented? That is, do you know how the data is structured internally or how the various operations are implemented?"
   ]
  },
  {
   "cell_type": "markdown",
   "metadata": {},
   "source": [
    "### Abstract Data types (ADT)\n",
    "An abstract data type (or ADT ) is a programmer-defined data type that specifies a set of data values and a collection of well-defined operations that can be performed on those values.\n",
    "\n",
    "This separation is typically enforced by requiring interac-\n",
    "tion with the abstract data type through an interface or defined set of operations. This is known as information hiding .\n",
    "User programs interact with instances of the ADT by invoking one of the several operations defined by its interface. The set of operations can be grouped into four\n",
    "categories:\n",
    "\n",
    " Constructors: Create and initialize new instances of the ADT.\n",
    "\n",
    " Accessors: Return data contained in an instance without modifying it.\n",
    "\n",
    " Mutators: Modify the contents of an ADT instance.\n",
    "\n",
    " Iterators: Process individual data components \n",
    "sequentially.  (CAMI)"
   ]
  },
  {
   "cell_type": "code",
   "execution_count": null,
   "metadata": {},
   "outputs": [],
   "source": []
  },
  {
   "cell_type": "code",
   "execution_count": null,
   "metadata": {},
   "outputs": [],
   "source": []
  }
 ],
 "metadata": {
  "kernelspec": {
   "display_name": "Python 3",
   "language": "python",
   "name": "python3"
  },
  "language_info": {
   "codemirror_mode": {
    "name": "ipython",
    "version": 3
   },
   "file_extension": ".py",
   "mimetype": "text/x-python",
   "name": "python",
   "nbconvert_exporter": "python",
   "pygments_lexer": "ipython3",
   "version": "3.6.9"
  }
 },
 "nbformat": 4,
 "nbformat_minor": 4
}
